{
 "cells": [
  {
   "cell_type": "code",
   "execution_count": 4,
   "metadata": {},
   "outputs": [
    {
     "name": "stdout",
     "output_type": "stream",
     "text": [
      "Collecting urllib2\n"
     ]
    },
    {
     "name": "stderr",
     "output_type": "stream",
     "text": [
      "  Could not find a version that satisfies the requirement urllib2 (from versions: )\n",
      "No matching distribution found for urllib2\n"
     ]
    }
   ],
   "source": [
    "! pip install urllib2"
   ]
  },
  {
   "cell_type": "code",
   "execution_count": 3,
   "metadata": {},
   "outputs": [
    {
     "ename": "ModuleNotFoundError",
     "evalue": "No module named 'urllib2'",
     "output_type": "error",
     "traceback": [
      "\u001b[1;31m---------------------------------------------------------------------------\u001b[0m",
      "\u001b[1;31mModuleNotFoundError\u001b[0m                       Traceback (most recent call last)",
      "\u001b[1;32m<ipython-input-3-83734a540723>\u001b[0m in \u001b[0;36m<module>\u001b[1;34m()\u001b[0m\n\u001b[0;32m      1\u001b[0m \u001b[1;31m# coding=utf8\u001b[0m\u001b[1;33m\u001b[0m\u001b[1;33m\u001b[0m\u001b[0m\n\u001b[1;32m----> 2\u001b[1;33m \u001b[1;32mimport\u001b[0m \u001b[0murllib2\u001b[0m\u001b[1;33m\u001b[0m\u001b[0m\n\u001b[0m\u001b[0;32m      3\u001b[0m \u001b[1;32mfrom\u001b[0m \u001b[0mbs4\u001b[0m \u001b[1;32mimport\u001b[0m \u001b[0mBeautifulSoup\u001b[0m\u001b[1;33m\u001b[0m\u001b[0m\n\u001b[0;32m      4\u001b[0m \u001b[1;32mimport\u001b[0m \u001b[0mre\u001b[0m\u001b[1;33m\u001b[0m\u001b[0m\n\u001b[0;32m      5\u001b[0m \u001b[0mmax\u001b[0m \u001b[1;33m=\u001b[0m \u001b[1;36m0\u001b[0m\u001b[1;33m\u001b[0m\u001b[0m\n",
      "\u001b[1;31mModuleNotFoundError\u001b[0m: No module named 'urllib2'"
     ]
    }
   ],
   "source": [
    "# coding=utf8\n",
    "import urllib2\n",
    "from bs4 import BeautifulSoup\n",
    "import re\n",
    "max = 0\n",
    "\n",
    "entos = []\n",
    "ektos = []\n",
    "assoi =[]\n",
    "isopalies =[]\n",
    "dipla =[]\n",
    "\n",
    "url = urllib2.urlopen(\"http://www.oddscheck.net/?page=home&cmd=def\")\n",
    "content = url.read()\n",
    "soup = BeautifulSoup(content)\n",
    "\n",
    "for td in soup.findAll(\"td\", { \"class\":\"home greyb\" }):\n",
    "\tentos.append(td.a.string)\n",
    "\tassoi += re.findall(\"\\d+.\\d+\", str(td.a.string.encode('utf-8')))\n",
    "\t\n",
    "for td in soup.findAll(\"td\", { \"class\":\"draw lightgreyb\" }):\n",
    "\t#print str(td.a.string.encode('utf-8'))\n",
    "\tisopalies += re.findall(\"\\d+.\\d+\", str(td.a.string.encode('utf-8')))\n",
    "\t\n",
    "for td in soup.findAll(\"td\", { \"class\":\"away greyb\" }):\n",
    "\tektos.append(td.a.string)\n",
    "\tdipla += re.findall(\"\\d+.\\d+\", str(td.a.string.encode('utf-8')))\n",
    "\t\n",
    "\n",
    "for x,y,z,en,ek in zip(assoi,isopalies,dipla,entos,ektos):\n",
    "\tganiota = 1 - ( 1 / ( (1/float(x)) + (1/float(y)) + (1/float(z)) ) )\n",
    "\t\n",
    "\tif ( ganiota < 0 ):\n",
    "\t\tkerdos = 100 - (100/float(x) + 100/float(y) + 100/float(z))\n",
    "\t\tif kerdos > 10:\n",
    "\t\t\tprint en.encode('utf-8')+\"\\t\"+ek.encode('utf-8')\n",
    "\t\t\tprint str(ganiota) + \" \\t\" +x+\" \\t\" +y+\" \\t\" +z \n",
    "\t\t\tprint str(100/float(x))+\" \\t\" +str(100/float(y))+\" \\t\" +str(100/float(z))\n",
    "\t\t\tprint \"KERDOS -> \" + str( kerdos)+\"\\n\\n\"\n",
    "\n",
    "\t\tif ganiota < max:\n",
    "\t\t\tmax = ganiota\n",
    "\n",
    "print max"
   ]
  },
  {
   "cell_type": "code",
   "execution_count": null,
   "metadata": {},
   "outputs": [],
   "source": []
  },
  {
   "cell_type": "code",
   "execution_count": null,
   "metadata": {},
   "outputs": [],
   "source": []
  }
 ],
 "metadata": {
  "kernelspec": {
   "display_name": "Python 3",
   "language": "python",
   "name": "python3"
  },
  "language_info": {
   "codemirror_mode": {
    "name": "ipython",
    "version": 3
   },
   "file_extension": ".py",
   "mimetype": "text/x-python",
   "name": "python",
   "nbconvert_exporter": "python",
   "pygments_lexer": "ipython3",
   "version": "3.6.4"
  }
 },
 "nbformat": 4,
 "nbformat_minor": 2
}
