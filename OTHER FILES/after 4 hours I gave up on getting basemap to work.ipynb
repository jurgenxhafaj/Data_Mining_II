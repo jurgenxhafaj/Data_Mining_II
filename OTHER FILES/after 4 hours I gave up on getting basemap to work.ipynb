{
 "cells": [
  {
   "cell_type": "code",
   "execution_count": 7,
   "metadata": {},
   "outputs": [
    {
     "name": "stdout",
     "output_type": "stream",
     "text": [
      "{'id': 123, 'visible': True, 'version': 8, 'changeset': 38852974, 'timestamp': datetime.datetime(2016, 4, 25, 10, 30, 27), 'user': 'Noen', 'uid': 605010, 'lat': 59.9503286, 'lon': 10.7899198, 'tag': {}}\n"
     ]
    }
   ],
   "source": [
    ">>> from osmapi import OsmApi\n",
    ">>> MyApi = OsmApi()\n",
    ">>> print (MyApi.NodeGet(123))\n"
   ]
  },
  {
   "cell_type": "code",
   "execution_count": 3,
   "metadata": {},
   "outputs": [
    {
     "name": "stdout",
     "output_type": "stream",
     "text": [
      "Collecting osmapi\n",
      "  Downloading https://files.pythonhosted.org/packages/6e/90/6af3640ccdc2beb8f6d24707af5bb880ca18d62b21673d27ee952a4b6109/osmapi-1.1.0.tar.gz\n",
      "Requirement already satisfied: requests in c:\\anaconda3\\lib\\site-packages (from osmapi) (2.18.4)\n",
      "Requirement already satisfied: chardet<3.1.0,>=3.0.2 in c:\\anaconda3\\lib\\site-packages (from requests->osmapi) (3.0.4)\n",
      "Requirement already satisfied: idna<2.7,>=2.5 in c:\\anaconda3\\lib\\site-packages (from requests->osmapi) (2.6)\n",
      "Requirement already satisfied: urllib3<1.23,>=1.21.1 in c:\\anaconda3\\lib\\site-packages (from requests->osmapi) (1.22)\n",
      "Requirement already satisfied: certifi>=2017.4.17 in c:\\anaconda3\\lib\\site-packages (from requests->osmapi) (2018.1.18)\n",
      "Building wheels for collected packages: osmapi\n",
      "  Running setup.py bdist_wheel for osmapi: started\n",
      "  Running setup.py bdist_wheel for osmapi: finished with status 'done'\n",
      "  Stored in directory: C:\\Users\\Jimmy Castro\\AppData\\Local\\pip\\Cache\\wheels\\32\\69\\2d\\e398623f0c81e05bce573132e4ef1d88fe8ec504160466ef49\n",
      "Successfully built osmapi\n",
      "Installing collected packages: osmapi\n",
      "Successfully installed osmapi-1.1.0\n"
     ]
    }
   ],
   "source": [
    "! pip install osmapi"
   ]
  },
  {
   "cell_type": "code",
   "execution_count": 6,
   "metadata": {},
   "outputs": [
    {
     "ename": "ApiError",
     "evalue": "Request failed: 401 - Unauthorized - b\"Couldn't authenticate you\"",
     "output_type": "error",
     "traceback": [
      "\u001b[1;31m---------------------------------------------------------------------------\u001b[0m",
      "\u001b[1;31mApiError\u001b[0m                                  Traceback (most recent call last)",
      "\u001b[1;32m<ipython-input-6-b702a0f9b129>\u001b[0m in \u001b[0;36m<module>\u001b[1;34m()\u001b[0m\n\u001b[0;32m      1\u001b[0m \u001b[0mMyApi\u001b[0m \u001b[1;33m=\u001b[0m \u001b[0mOsmApi\u001b[0m\u001b[1;33m(\u001b[0m\u001b[0musername\u001b[0m \u001b[1;33m=\u001b[0m \u001b[1;34mu\"EtienneChove\"\u001b[0m\u001b[1;33m,\u001b[0m \u001b[0mpassword\u001b[0m \u001b[1;33m=\u001b[0m \u001b[1;34mu\"*******\"\u001b[0m\u001b[1;33m)\u001b[0m\u001b[1;33m\u001b[0m\u001b[0m\n\u001b[1;32m----> 2\u001b[1;33m \u001b[0mMyApi\u001b[0m\u001b[1;33m.\u001b[0m\u001b[0mChangesetCreate\u001b[0m\u001b[1;33m(\u001b[0m\u001b[1;33m{\u001b[0m\u001b[1;34mu\"comment\"\u001b[0m\u001b[1;33m:\u001b[0m \u001b[1;34mu\"My first test\"\u001b[0m\u001b[1;33m}\u001b[0m\u001b[1;33m)\u001b[0m\u001b[1;33m\u001b[0m\u001b[0m\n\u001b[0m\u001b[0;32m      3\u001b[0m \u001b[0mprint\u001b[0m \u001b[1;33m(\u001b[0m\u001b[0mMyApi\u001b[0m\u001b[1;33m.\u001b[0m\u001b[0mNodeCreate\u001b[0m\u001b[1;33m(\u001b[0m\u001b[1;33m{\u001b[0m\u001b[1;34mu\"lon\"\u001b[0m\u001b[1;33m:\u001b[0m\u001b[1;36m1\u001b[0m\u001b[1;33m,\u001b[0m \u001b[1;34mu\"lat\"\u001b[0m\u001b[1;33m:\u001b[0m\u001b[1;36m1\u001b[0m\u001b[1;33m,\u001b[0m \u001b[1;34mu\"tag\"\u001b[0m\u001b[1;33m:\u001b[0m \u001b[1;33m{\u001b[0m\u001b[1;33m}\u001b[0m\u001b[1;33m}\u001b[0m\u001b[1;33m)\u001b[0m \u001b[1;33m)\u001b[0m\u001b[1;33m\u001b[0m\u001b[0m\n\u001b[0;32m      4\u001b[0m \u001b[1;33m{\u001b[0m\u001b[1;34mu'changeset'\u001b[0m\u001b[1;33m:\u001b[0m \u001b[1;36m532907\u001b[0m\u001b[1;33m,\u001b[0m \u001b[1;34mu'lon'\u001b[0m\u001b[1;33m:\u001b[0m \u001b[1;36m1\u001b[0m\u001b[1;33m,\u001b[0m \u001b[1;34mu'version'\u001b[0m\u001b[1;33m:\u001b[0m \u001b[1;36m1\u001b[0m\u001b[1;33m,\u001b[0m \u001b[1;34mu'lat'\u001b[0m\u001b[1;33m:\u001b[0m \u001b[1;36m1\u001b[0m\u001b[1;33m,\u001b[0m \u001b[1;34mu'tag'\u001b[0m\u001b[1;33m:\u001b[0m \u001b[1;33m{\u001b[0m\u001b[1;33m}\u001b[0m\u001b[1;33m,\u001b[0m \u001b[1;34mu'id'\u001b[0m\u001b[1;33m:\u001b[0m \u001b[1;36m164684\u001b[0m\u001b[1;33m}\u001b[0m\u001b[1;33m\u001b[0m\u001b[0m\n\u001b[0;32m      5\u001b[0m \u001b[0mMyApi\u001b[0m\u001b[1;33m.\u001b[0m\u001b[0mChangesetClose\u001b[0m\u001b[1;33m(\u001b[0m\u001b[1;33m)\u001b[0m\u001b[1;33m\u001b[0m\u001b[0m\n",
      "\u001b[1;32mC:\\Anaconda3\\lib\\site-packages\\osmapi\\OsmApi.py\u001b[0m in \u001b[0;36mChangesetCreate\u001b[1;34m(self, ChangesetTags)\u001b[0m\n\u001b[0;32m   1261\u001b[0m         result = self._put(\n\u001b[0;32m   1262\u001b[0m             \u001b[1;34m\"/api/0.6/changeset/create\"\u001b[0m\u001b[1;33m,\u001b[0m\u001b[1;33m\u001b[0m\u001b[0m\n\u001b[1;32m-> 1263\u001b[1;33m             \u001b[0mself\u001b[0m\u001b[1;33m.\u001b[0m\u001b[0m_XmlBuild\u001b[0m\u001b[1;33m(\u001b[0m\u001b[1;34m\"changeset\"\u001b[0m\u001b[1;33m,\u001b[0m \u001b[1;33m{\u001b[0m\u001b[1;34m\"tag\"\u001b[0m\u001b[1;33m:\u001b[0m \u001b[0mChangesetTags\u001b[0m\u001b[1;33m}\u001b[0m\u001b[1;33m)\u001b[0m\u001b[1;33m\u001b[0m\u001b[0m\n\u001b[0m\u001b[0;32m   1264\u001b[0m         )\n\u001b[0;32m   1265\u001b[0m         \u001b[0mself\u001b[0m\u001b[1;33m.\u001b[0m\u001b[0m_CurrentChangesetId\u001b[0m \u001b[1;33m=\u001b[0m \u001b[0mint\u001b[0m\u001b[1;33m(\u001b[0m\u001b[0mresult\u001b[0m\u001b[1;33m)\u001b[0m\u001b[1;33m\u001b[0m\u001b[0m\n",
      "\u001b[1;32mC:\\Anaconda3\\lib\\site-packages\\osmapi\\OsmApi.py\u001b[0m in \u001b[0;36m_put\u001b[1;34m(self, path, data, return_value)\u001b[0m\n\u001b[0;32m   2035\u001b[0m \u001b[1;33m\u001b[0m\u001b[0m\n\u001b[0;32m   2036\u001b[0m     \u001b[1;32mdef\u001b[0m \u001b[0m_put\u001b[0m\u001b[1;33m(\u001b[0m\u001b[0mself\u001b[0m\u001b[1;33m,\u001b[0m \u001b[0mpath\u001b[0m\u001b[1;33m,\u001b[0m \u001b[0mdata\u001b[0m\u001b[1;33m,\u001b[0m \u001b[0mreturn_value\u001b[0m\u001b[1;33m=\u001b[0m\u001b[1;32mTrue\u001b[0m\u001b[1;33m)\u001b[0m\u001b[1;33m:\u001b[0m\u001b[1;33m\u001b[0m\u001b[0m\n\u001b[1;32m-> 2037\u001b[1;33m         \u001b[1;32mreturn\u001b[0m \u001b[0mself\u001b[0m\u001b[1;33m.\u001b[0m\u001b[0m_http\u001b[0m\u001b[1;33m(\u001b[0m\u001b[1;34m'PUT'\u001b[0m\u001b[1;33m,\u001b[0m \u001b[0mpath\u001b[0m\u001b[1;33m,\u001b[0m \u001b[1;32mTrue\u001b[0m\u001b[1;33m,\u001b[0m \u001b[0mdata\u001b[0m\u001b[1;33m,\u001b[0m \u001b[0mreturn_value\u001b[0m\u001b[1;33m=\u001b[0m\u001b[0mreturn_value\u001b[0m\u001b[1;33m)\u001b[0m\u001b[1;33m\u001b[0m\u001b[0m\n\u001b[0m\u001b[0;32m   2038\u001b[0m \u001b[1;33m\u001b[0m\u001b[0m\n\u001b[0;32m   2039\u001b[0m     \u001b[1;32mdef\u001b[0m \u001b[0m_post\u001b[0m\u001b[1;33m(\u001b[0m\u001b[0mself\u001b[0m\u001b[1;33m,\u001b[0m \u001b[0mpath\u001b[0m\u001b[1;33m,\u001b[0m \u001b[0mdata\u001b[0m\u001b[1;33m,\u001b[0m \u001b[0moptionalAuth\u001b[0m\u001b[1;33m=\u001b[0m\u001b[1;32mFalse\u001b[0m\u001b[1;33m)\u001b[0m\u001b[1;33m:\u001b[0m\u001b[1;33m\u001b[0m\u001b[0m\n",
      "\u001b[1;32mC:\\Anaconda3\\lib\\site-packages\\osmapi\\OsmApi.py\u001b[0m in \u001b[0;36m_http\u001b[1;34m(self, cmd, path, auth, send, return_value)\u001b[0m\n\u001b[0;32m   1995\u001b[0m                     \u001b[0mauth\u001b[0m\u001b[1;33m,\u001b[0m\u001b[1;33m\u001b[0m\u001b[0m\n\u001b[0;32m   1996\u001b[0m                     \u001b[0msend\u001b[0m\u001b[1;33m,\u001b[0m\u001b[1;33m\u001b[0m\u001b[0m\n\u001b[1;32m-> 1997\u001b[1;33m                     \u001b[0mreturn_value\u001b[0m\u001b[1;33m=\u001b[0m\u001b[0mreturn_value\u001b[0m\u001b[1;33m\u001b[0m\u001b[0m\n\u001b[0m\u001b[0;32m   1998\u001b[0m                 )\n\u001b[0;32m   1999\u001b[0m             \u001b[1;32mexcept\u001b[0m \u001b[0mApiError\u001b[0m \u001b[1;32mas\u001b[0m \u001b[0me\u001b[0m\u001b[1;33m:\u001b[0m\u001b[1;33m\u001b[0m\u001b[0m\n",
      "\u001b[1;32mC:\\Anaconda3\\lib\\site-packages\\osmapi\\OsmApi.py\u001b[0m in \u001b[0;36m_http_request\u001b[1;34m(self, method, path, auth, send, return_value)\u001b[0m\n\u001b[0;32m   1969\u001b[0m                     \u001b[0mpayload\u001b[0m\u001b[1;33m\u001b[0m\u001b[0m\n\u001b[0;32m   1970\u001b[0m                 )\n\u001b[1;32m-> 1971\u001b[1;33m             \u001b[1;32mraise\u001b[0m \u001b[0mApiError\u001b[0m\u001b[1;33m(\u001b[0m\u001b[0mresponse\u001b[0m\u001b[1;33m.\u001b[0m\u001b[0mstatus_code\u001b[0m\u001b[1;33m,\u001b[0m \u001b[0mresponse\u001b[0m\u001b[1;33m.\u001b[0m\u001b[0mreason\u001b[0m\u001b[1;33m,\u001b[0m \u001b[0mpayload\u001b[0m\u001b[1;33m)\u001b[0m\u001b[1;33m\u001b[0m\u001b[0m\n\u001b[0m\u001b[0;32m   1972\u001b[0m         \u001b[1;32mif\u001b[0m \u001b[0mreturn_value\u001b[0m \u001b[1;32mand\u001b[0m \u001b[1;32mnot\u001b[0m \u001b[0mresponse\u001b[0m\u001b[1;33m.\u001b[0m\u001b[0mcontent\u001b[0m\u001b[1;33m:\u001b[0m\u001b[1;33m\u001b[0m\u001b[0m\n\u001b[0;32m   1973\u001b[0m             raise ResponseEmptyApiError(\n",
      "\u001b[1;31mApiError\u001b[0m: Request failed: 401 - Unauthorized - b\"Couldn't authenticate you\""
     ]
    }
   ],
   "source": []
  },
  {
   "cell_type": "code",
   "execution_count": 15,
   "metadata": {},
   "outputs": [
    {
     "name": "stdout",
     "output_type": "stream",
     "text": [
      "Solving environment: ...working... failed\n"
     ]
    },
    {
     "name": "stderr",
     "output_type": "stream",
     "text": [
      "\n",
      "UnsatisfiableError: The following specifications were found to be in conflict:\n",
      "  - basemap\n",
      "  - zict\n",
      "Use \"conda info <package>\" to see the dependencies for each package.\n",
      "\n"
     ]
    }
   ],
   "source": [
    "! conda install -c anaconda basemap "
   ]
  },
  {
   "cell_type": "code",
   "execution_count": 11,
   "metadata": {},
   "outputs": [
    {
     "name": "stdout",
     "output_type": "stream",
     "text": [
      "Downloading http://earthquake.usgs.gov/earthquakes/feed/v1.0/summary/4.5_month.csv\n"
     ]
    }
   ],
   "source": [
    "import requests\n",
    "from csv import DictReader\n",
    "DATA_URL = 'http://earthquake.usgs.gov/earthquakes/feed/v1.0/summary/4.5_month.csv'\n",
    "print(\"Downloading\", DATA_URL)\n",
    "resp = requests.get(DATA_URL)\n",
    "quakes = list(DictReader(resp.text.splitlines()))\n",
    "# ...avoiding numpy/pandas Array() for now, and can't care enough to do this less awkwardly...\n",
    "lngs = [float(q['longitude']) for q in quakes]\n",
    "lats = [float(q['latitude']) for q in quakes]\n",
    "mags = [2 ** float(q['mag']) for q in quakes]"
   ]
  },
  {
   "cell_type": "code",
   "execution_count": 12,
   "metadata": {},
   "outputs": [
    {
     "ename": "ModuleNotFoundError",
     "evalue": "No module named 'mpl_toolkits.basemap'",
     "output_type": "error",
     "traceback": [
      "\u001b[1;31m---------------------------------------------------------------------------\u001b[0m",
      "\u001b[1;31mModuleNotFoundError\u001b[0m                       Traceback (most recent call last)",
      "\u001b[1;32m<ipython-input-12-5347d665e971>\u001b[0m in \u001b[0;36m<module>\u001b[1;34m()\u001b[0m\n\u001b[0;32m      1\u001b[0m \u001b[1;31m# %matplotlib  # in iPython\u001b[0m\u001b[1;33m\u001b[0m\u001b[1;33m\u001b[0m\u001b[0m\n\u001b[0;32m      2\u001b[0m \u001b[1;32mimport\u001b[0m \u001b[0mmatplotlib\u001b[0m\u001b[1;33m.\u001b[0m\u001b[0mpyplot\u001b[0m \u001b[1;32mas\u001b[0m \u001b[0mplt\u001b[0m\u001b[1;33m\u001b[0m\u001b[0m\n\u001b[1;32m----> 3\u001b[1;33m \u001b[1;32mfrom\u001b[0m \u001b[0mmpl_toolkits\u001b[0m\u001b[1;33m.\u001b[0m\u001b[0mbasemap\u001b[0m \u001b[1;32mimport\u001b[0m \u001b[0mBasemap\u001b[0m\u001b[1;33m\u001b[0m\u001b[0m\n\u001b[0m\u001b[0;32m      4\u001b[0m \u001b[0mplt\u001b[0m\u001b[1;33m.\u001b[0m\u001b[0mfigure\u001b[0m\u001b[1;33m(\u001b[0m\u001b[0mfigsize\u001b[0m\u001b[1;33m=\u001b[0m\u001b[1;33m(\u001b[0m\u001b[1;36m14\u001b[0m\u001b[1;33m,\u001b[0m \u001b[1;36m8\u001b[0m\u001b[1;33m)\u001b[0m\u001b[1;33m)\u001b[0m\u001b[1;33m\u001b[0m\u001b[0m\n\u001b[0;32m      5\u001b[0m \u001b[0mearth\u001b[0m \u001b[1;33m=\u001b[0m \u001b[0mBasemap\u001b[0m\u001b[1;33m(\u001b[0m\u001b[1;33m)\u001b[0m\u001b[1;33m\u001b[0m\u001b[0m\n",
      "\u001b[1;31mModuleNotFoundError\u001b[0m: No module named 'mpl_toolkits.basemap'"
     ]
    }
   ],
   "source": [
    "# %matplotlib  # in iPython\n",
    "import matplotlib.pyplot as plt\n",
    "from mpl_toolkits.basemap import Basemap\n",
    "plt.figure(figsize=(14, 8))\n",
    "earth = Basemap()\n",
    "earth.bluemarble(alpha=0.42)\n",
    "earth.drawcoastlines(color='#555566', linewidth=1)\n",
    "plt.scatter(lngs, lats, mags, \n",
    "            c='red',alpha=0.5, zorder=10)\n",
    "plt.xlabel(\"M4.5 earthquakes in the past 30 days from March 18, 2016 (USGS)\")\n",
    "plt.savefig('usgs-4.5quakes-bluemarble.png', dpi=350)"
   ]
  },
  {
   "cell_type": "code",
   "execution_count": null,
   "metadata": {},
   "outputs": [],
   "source": []
  }
 ],
 "metadata": {
  "kernelspec": {
   "display_name": "Python 3",
   "language": "python",
   "name": "python3"
  },
  "language_info": {
   "codemirror_mode": {
    "name": "ipython",
    "version": 3
   },
   "file_extension": ".py",
   "mimetype": "text/x-python",
   "name": "python",
   "nbconvert_exporter": "python",
   "pygments_lexer": "ipython3",
   "version": "3.6.4"
  }
 },
 "nbformat": 4,
 "nbformat_minor": 2
}
