{
 "cells": [
  {
   "cell_type": "code",
   "execution_count": null,
   "metadata": {},
   "outputs": [],
   "source": [
    "# import pandas\n",
    "# import matplotlib.pyplot as plt\n",
    "# dataset = pandas.read_csv('cmonBruh.csv', usecols=[1], engine='python', skipfooter=3)\n",
    "# plt.plot(dataset)\n",
    "# plt.show()"
   ]
  },
  {
   "cell_type": "code",
   "execution_count": null,
   "metadata": {},
   "outputs": [],
   "source": [
    "# import numpy\n",
    "# import matplotlib.pyplot as plt\n",
    "# import pandas\n",
    "# import math\n",
    "# from keras.models import Sequential\n",
    "# from keras.layers import Dense\n",
    "# from keras.layers import LSTM\n",
    "# from sklearn.preprocessing import MinMaxScaler\n",
    "# from sklearn.metrics import mean_squared_error"
   ]
  },
  {
   "cell_type": "code",
   "execution_count": null,
   "metadata": {},
   "outputs": [],
   "source": [
    "# # fix random seed for reproducibility\n",
    "# numpy.random.seed(7)"
   ]
  },
  {
   "cell_type": "code",
   "execution_count": null,
   "metadata": {},
   "outputs": [],
   "source": [
    "# # load the dataset\n",
    "# dataframe = pandas.read_csv('cmonBruh.csv', usecols=[1], engine='python', skipfooter=3)\n",
    "# dataset = dataframe.values\n",
    "# dataset = dataset.astype('float32')"
   ]
  },
  {
   "cell_type": "code",
   "execution_count": null,
   "metadata": {},
   "outputs": [],
   "source": [
    "# # normalize the dataset\n",
    "# scaler = MinMaxScaler(feature_range=(0, 1))\n",
    "# dataset = scaler.fit_transform(dataset)"
   ]
  },
  {
   "cell_type": "code",
   "execution_count": null,
   "metadata": {},
   "outputs": [],
   "source": [
    "# # split into train and test sets\n",
    "# train_size = int(len(dataset) * 0.80)\n",
    "# test_size = len(dataset) - train_size\n",
    "# train, test = dataset[0:train_size,:], dataset[train_size:len(dataset),:]\n",
    "# print(len(train), len(test))\n",
    "\n",
    "\n",
    "# Ed said to use train test split, look it up\n"
   ]
  },
  {
   "cell_type": "code",
   "execution_count": null,
   "metadata": {},
   "outputs": [],
   "source": [
    "# # convert an array of values into a dataset matrix\n",
    "# def create_dataset(dataset, look_back=1):\n",
    "# \tdataX, dataY = [], []\n",
    "# \tfor i in range(len(dataset)-look_back-1):\n",
    "# \t\ta = dataset[i:(i+look_back), 0]\n",
    "# \t\tdataX.append(a)\n",
    "# \t\tdataY.append(dataset[i + look_back, 0])\n",
    "# \treturn numpy.array(dataX), numpy.array(dataY)"
   ]
  },
  {
   "cell_type": "code",
   "execution_count": null,
   "metadata": {},
   "outputs": [],
   "source": [
    "# # reshape into X=t and Y=t+1\n",
    "# look_back = 1\n",
    "# trainX, trainY = create_dataset(train, look_back)\n",
    "# testX, testY = create_dataset(test, look_back)"
   ]
  },
  {
   "cell_type": "code",
   "execution_count": null,
   "metadata": {},
   "outputs": [],
   "source": [
    "# # reshape input to be [samples, time steps, features]\n",
    "# trainX = numpy.reshape(trainX, (trainX.shape[0], 1, trainX.shape[1]))\n",
    "# testX = numpy.reshape(testX, (testX.shape[0], 1, testX.shape[1]))"
   ]
  },
  {
   "cell_type": "code",
   "execution_count": null,
   "metadata": {},
   "outputs": [],
   "source": [
    "# # create and fit the LSTM network\n",
    "# model = Sequential()\n",
    "# model.add(LSTM(4, input_shape=(1, look_back)))\n",
    "# model.add(Dense(1))\n",
    "# model.compile(loss='mean_squared_error', optimizer='adam')\n",
    "# model.fit(trainX, trainY, epochs=100, batch_size=1, verbose=2)"
   ]
  },
  {
   "cell_type": "code",
   "execution_count": null,
   "metadata": {},
   "outputs": [],
   "source": [
    "# # make predictions\n",
    "# trainPredict = model.predict(trainX)\n",
    "# testPredict = model.predict(testX)\n",
    "# # invert predictions\n",
    "# trainPredict = scaler.inverse_transform(trainPredict)\n",
    "# trainY = scaler.inverse_transform([trainY])\n",
    "# testPredict = scaler.inverse_transform(testPredict)\n",
    "# testY = scaler.inverse_transform([testY])\n",
    "# # calculate root mean squared error\n",
    "# trainScore = math.sqrt(mean_squared_error(trainY[0], trainPredict[:,0]))\n",
    "# print('Train Score: %.2f RMSE' % (trainScore))\n",
    "# testScore = math.sqrt(mean_squared_error(testY[0], testPredict[:,0]))\n",
    "# print('Test Score: %.2f RMSE' % (testScore))"
   ]
  },
  {
   "cell_type": "code",
   "execution_count": null,
   "metadata": {},
   "outputs": [],
   "source": [
    "# # shift train predictions for plotting\n",
    "# trainPredictPlot = numpy.empty_like(dataset)\n",
    "# trainPredictPlot[:, :] = numpy.nan\n",
    "# trainPredictPlot[look_back:len(trainPredict)+look_back, :] = trainPredict\n",
    "# # shift test predictions for plotting\n",
    "# testPredictPlot = numpy.empty_like(dataset)\n",
    "# testPredictPlot[:, :] = numpy.nan\n",
    "# testPredictPlot[len(trainPredict)+(look_back*2)+1:len(dataset)-1, :] = testPredict\n",
    "# # plot baseline and predictions\n",
    "\n",
    "# fig = plt.gcf()\n",
    "# fig.set_size_inches(300, 150)\n",
    "# fig.savefig('test2png.png', dpi=100)\n",
    "\n",
    "# plt.plot(scaler.inverse_transform(dataset))\n",
    "# plt.plot(trainPredictPlot)\n",
    "# plt.plot(testPredictPlot)\n",
    "# plt.show()\n",
    "\n"
   ]
  },
  {
   "cell_type": "code",
   "execution_count": null,
   "metadata": {},
   "outputs": [],
   "source": []
  },
  {
   "cell_type": "code",
   "execution_count": null,
   "metadata": {},
   "outputs": [],
   "source": [
    "# fig = plt.gcf()\n",
    "# fig.set_size_inches(18.5, 10.5)\n",
    "# fig.savefig('test2png.png', dpi=100)"
   ]
  },
  {
   "cell_type": "code",
   "execution_count": null,
   "metadata": {},
   "outputs": [],
   "source": [
    "# plt.show()"
   ]
  },
  {
   "cell_type": "code",
   "execution_count": null,
   "metadata": {},
   "outputs": [],
   "source": []
  },
  {
   "cell_type": "code",
   "execution_count": null,
   "metadata": {},
   "outputs": [],
   "source": []
  },
  {
   "cell_type": "code",
   "execution_count": null,
   "metadata": {},
   "outputs": [],
   "source": []
  },
  {
   "cell_type": "code",
   "execution_count": null,
   "metadata": {},
   "outputs": [],
   "source": []
  },
  {
   "cell_type": "markdown",
   "metadata": {},
   "source": [
    "# Alizee Idea"
   ]
  },
  {
   "cell_type": "code",
   "execution_count": null,
   "metadata": {},
   "outputs": [],
   "source": [
    "# NEW!! This is the procdure (more or less)\n",
    "# Goal: predict NUMBER OF GOALS (then maybe win or loss) by looking at the betting coefficients (cmonBruh.csv)\n",
    "# goal2: predict best team strategies to get a win\n",
    "# We will go through the procedure to do fulfill the first task"
   ]
  },
  {
   "cell_type": "code",
   "execution_count": 1,
   "metadata": {},
   "outputs": [
    {
     "name": "stderr",
     "output_type": "stream",
     "text": [
      "C:\\Anaconda3\\lib\\site-packages\\h5py\\__init__.py:36: FutureWarning: Conversion of the second argument of issubdtype from `float` to `np.floating` is deprecated. In future, it will be treated as `np.float64 == np.dtype(float).type`.\n",
      "  from ._conv import register_converters as _register_converters\n",
      "Using TensorFlow backend.\n"
     ]
    }
   ],
   "source": [
    "import pandas as pd\n",
    "import numpy as np\n",
    "import keras\n",
    "df=pd.read_csv(\"cmonBruh.csv\")"
   ]
  },
  {
   "cell_type": "code",
   "execution_count": null,
   "metadata": {},
   "outputs": [],
   "source": [
    "# df.head()"
   ]
  },
  {
   "cell_type": "code",
   "execution_count": null,
   "metadata": {},
   "outputs": [],
   "source": [
    "# first we create an extra column for goal amount\n",
    "# # 3+ goals will be one category, 0-2 goals will be the other category\n",
    "\n",
    "# df['extra_column_raw']=df[1]+df[2]"
   ]
  },
  {
   "cell_type": "code",
   "execution_count": null,
   "metadata": {},
   "outputs": [],
   "source": [
    "# extra_column_raw.head()"
   ]
  },
  {
   "cell_type": "code",
   "execution_count": null,
   "metadata": {},
   "outputs": [],
   "source": [
    "# df['new_column']=extra_column_raw"
   ]
  },
  {
   "cell_type": "code",
   "execution_count": 2,
   "metadata": {},
   "outputs": [
    {
     "data": {
      "text/html": [
       "<div>\n",
       "<style scoped>\n",
       "    .dataframe tbody tr th:only-of-type {\n",
       "        vertical-align: middle;\n",
       "    }\n",
       "\n",
       "    .dataframe tbody tr th {\n",
       "        vertical-align: top;\n",
       "    }\n",
       "\n",
       "    .dataframe thead th {\n",
       "        text-align: right;\n",
       "    }\n",
       "</style>\n",
       "<table border=\"1\" class=\"dataframe\">\n",
       "  <thead>\n",
       "    <tr style=\"text-align: right;\">\n",
       "      <th></th>\n",
       "      <th>season</th>\n",
       "      <th>fthg</th>\n",
       "      <th>ftag</th>\n",
       "      <th>odd_h</th>\n",
       "      <th>odd_d</th>\n",
       "      <th>odd_a</th>\n",
       "      <th>target</th>\n",
       "    </tr>\n",
       "  </thead>\n",
       "  <tbody>\n",
       "    <tr>\n",
       "      <th>0</th>\n",
       "      <td>2012</td>\n",
       "      <td>3</td>\n",
       "      <td>1</td>\n",
       "      <td>1.56</td>\n",
       "      <td>4.41</td>\n",
       "      <td>7.42</td>\n",
       "      <td>12</td>\n",
       "    </tr>\n",
       "    <tr>\n",
       "      <th>1</th>\n",
       "      <td>2012</td>\n",
       "      <td>2</td>\n",
       "      <td>2</td>\n",
       "      <td>2.36</td>\n",
       "      <td>3.60</td>\n",
       "      <td>3.40</td>\n",
       "      <td>10</td>\n",
       "    </tr>\n",
       "    <tr>\n",
       "      <th>2</th>\n",
       "      <td>2012</td>\n",
       "      <td>2</td>\n",
       "      <td>0</td>\n",
       "      <td>1.83</td>\n",
       "      <td>4.20</td>\n",
       "      <td>4.80</td>\n",
       "      <td>12</td>\n",
       "    </tr>\n",
       "    <tr>\n",
       "      <th>3</th>\n",
       "      <td>2012</td>\n",
       "      <td>0</td>\n",
       "      <td>1</td>\n",
       "      <td>1.55</td>\n",
       "      <td>4.50</td>\n",
       "      <td>9.40</td>\n",
       "      <td>9</td>\n",
       "    </tr>\n",
       "    <tr>\n",
       "      <th>4</th>\n",
       "      <td>2012</td>\n",
       "      <td>1</td>\n",
       "      <td>0</td>\n",
       "      <td>2.50</td>\n",
       "      <td>3.40</td>\n",
       "      <td>3.45</td>\n",
       "      <td>11</td>\n",
       "    </tr>\n",
       "  </tbody>\n",
       "</table>\n",
       "</div>"
      ],
      "text/plain": [
       "   season  fthg  ftag  odd_h  odd_d  odd_a  target\n",
       "0    2012     3     1   1.56   4.41   7.42      12\n",
       "1    2012     2     2   2.36   3.60   3.40      10\n",
       "2    2012     2     0   1.83   4.20   4.80      12\n",
       "3    2012     0     1   1.55   4.50   9.40       9\n",
       "4    2012     1     0   2.50   3.40   3.45      11"
      ]
     },
     "execution_count": 2,
     "metadata": {},
     "output_type": "execute_result"
    }
   ],
   "source": [
    "df.head()"
   ]
  },
  {
   "cell_type": "code",
   "execution_count": 3,
   "metadata": {},
   "outputs": [],
   "source": [
    "df['other_column']=df['fthg']+df['ftag']"
   ]
  },
  {
   "cell_type": "code",
   "execution_count": 4,
   "metadata": {},
   "outputs": [
    {
     "data": {
      "text/html": [
       "<div>\n",
       "<style scoped>\n",
       "    .dataframe tbody tr th:only-of-type {\n",
       "        vertical-align: middle;\n",
       "    }\n",
       "\n",
       "    .dataframe tbody tr th {\n",
       "        vertical-align: top;\n",
       "    }\n",
       "\n",
       "    .dataframe thead th {\n",
       "        text-align: right;\n",
       "    }\n",
       "</style>\n",
       "<table border=\"1\" class=\"dataframe\">\n",
       "  <thead>\n",
       "    <tr style=\"text-align: right;\">\n",
       "      <th></th>\n",
       "      <th>season</th>\n",
       "      <th>fthg</th>\n",
       "      <th>ftag</th>\n",
       "      <th>odd_h</th>\n",
       "      <th>odd_d</th>\n",
       "      <th>odd_a</th>\n",
       "      <th>target</th>\n",
       "      <th>other_column</th>\n",
       "    </tr>\n",
       "  </thead>\n",
       "  <tbody>\n",
       "    <tr>\n",
       "      <th>0</th>\n",
       "      <td>2012</td>\n",
       "      <td>3</td>\n",
       "      <td>1</td>\n",
       "      <td>1.56</td>\n",
       "      <td>4.41</td>\n",
       "      <td>7.42</td>\n",
       "      <td>12</td>\n",
       "      <td>4</td>\n",
       "    </tr>\n",
       "    <tr>\n",
       "      <th>1</th>\n",
       "      <td>2012</td>\n",
       "      <td>2</td>\n",
       "      <td>2</td>\n",
       "      <td>2.36</td>\n",
       "      <td>3.60</td>\n",
       "      <td>3.40</td>\n",
       "      <td>10</td>\n",
       "      <td>4</td>\n",
       "    </tr>\n",
       "    <tr>\n",
       "      <th>2</th>\n",
       "      <td>2012</td>\n",
       "      <td>2</td>\n",
       "      <td>0</td>\n",
       "      <td>1.83</td>\n",
       "      <td>4.20</td>\n",
       "      <td>4.80</td>\n",
       "      <td>12</td>\n",
       "      <td>2</td>\n",
       "    </tr>\n",
       "    <tr>\n",
       "      <th>3</th>\n",
       "      <td>2012</td>\n",
       "      <td>0</td>\n",
       "      <td>1</td>\n",
       "      <td>1.55</td>\n",
       "      <td>4.50</td>\n",
       "      <td>9.40</td>\n",
       "      <td>9</td>\n",
       "      <td>1</td>\n",
       "    </tr>\n",
       "    <tr>\n",
       "      <th>4</th>\n",
       "      <td>2012</td>\n",
       "      <td>1</td>\n",
       "      <td>0</td>\n",
       "      <td>2.50</td>\n",
       "      <td>3.40</td>\n",
       "      <td>3.45</td>\n",
       "      <td>11</td>\n",
       "      <td>1</td>\n",
       "    </tr>\n",
       "  </tbody>\n",
       "</table>\n",
       "</div>"
      ],
      "text/plain": [
       "   season  fthg  ftag  odd_h  odd_d  odd_a  target  other_column\n",
       "0    2012     3     1   1.56   4.41   7.42      12             4\n",
       "1    2012     2     2   2.36   3.60   3.40      10             4\n",
       "2    2012     2     0   1.83   4.20   4.80      12             2\n",
       "3    2012     0     1   1.55   4.50   9.40       9             1\n",
       "4    2012     1     0   2.50   3.40   3.45      11             1"
      ]
     },
     "execution_count": 4,
     "metadata": {},
     "output_type": "execute_result"
    }
   ],
   "source": [
    "df.head()"
   ]
  },
  {
   "cell_type": "code",
   "execution_count": null,
   "metadata": {},
   "outputs": [],
   "source": [
    "# for i in df['binary']: \n",
    "#     if df['other_column']>2.5\n",
    "        \n",
    "#                             else "
   ]
  },
  {
   "cell_type": "code",
   "execution_count": null,
   "metadata": {},
   "outputs": [],
   "source": [
    "# for i in df['other_column']:\n",
    "#     if i>2.5:\n",
    "#         return 1\n",
    "#     else\n",
    "#         return 0\n",
    "#     break"
   ]
  },
  {
   "cell_type": "code",
   "execution_count": 5,
   "metadata": {},
   "outputs": [],
   "source": [
    "def betting(dl):\n",
    "    if dl > 2.5: return 1\n",
    "    else: return 0\n",
    "\n",
    "df[\"Code\"] = df['other_column'].map(betting)"
   ]
  },
  {
   "cell_type": "code",
   "execution_count": 6,
   "metadata": {},
   "outputs": [
    {
     "data": {
      "text/html": [
       "<div>\n",
       "<style scoped>\n",
       "    .dataframe tbody tr th:only-of-type {\n",
       "        vertical-align: middle;\n",
       "    }\n",
       "\n",
       "    .dataframe tbody tr th {\n",
       "        vertical-align: top;\n",
       "    }\n",
       "\n",
       "    .dataframe thead th {\n",
       "        text-align: right;\n",
       "    }\n",
       "</style>\n",
       "<table border=\"1\" class=\"dataframe\">\n",
       "  <thead>\n",
       "    <tr style=\"text-align: right;\">\n",
       "      <th></th>\n",
       "      <th>season</th>\n",
       "      <th>fthg</th>\n",
       "      <th>ftag</th>\n",
       "      <th>odd_h</th>\n",
       "      <th>odd_d</th>\n",
       "      <th>odd_a</th>\n",
       "      <th>target</th>\n",
       "      <th>other_column</th>\n",
       "      <th>Code</th>\n",
       "    </tr>\n",
       "  </thead>\n",
       "  <tbody>\n",
       "    <tr>\n",
       "      <th>0</th>\n",
       "      <td>2012</td>\n",
       "      <td>3</td>\n",
       "      <td>1</td>\n",
       "      <td>1.56</td>\n",
       "      <td>4.41</td>\n",
       "      <td>7.42</td>\n",
       "      <td>12</td>\n",
       "      <td>4</td>\n",
       "      <td>1</td>\n",
       "    </tr>\n",
       "    <tr>\n",
       "      <th>1</th>\n",
       "      <td>2012</td>\n",
       "      <td>2</td>\n",
       "      <td>2</td>\n",
       "      <td>2.36</td>\n",
       "      <td>3.60</td>\n",
       "      <td>3.40</td>\n",
       "      <td>10</td>\n",
       "      <td>4</td>\n",
       "      <td>1</td>\n",
       "    </tr>\n",
       "    <tr>\n",
       "      <th>2</th>\n",
       "      <td>2012</td>\n",
       "      <td>2</td>\n",
       "      <td>0</td>\n",
       "      <td>1.83</td>\n",
       "      <td>4.20</td>\n",
       "      <td>4.80</td>\n",
       "      <td>12</td>\n",
       "      <td>2</td>\n",
       "      <td>0</td>\n",
       "    </tr>\n",
       "    <tr>\n",
       "      <th>3</th>\n",
       "      <td>2012</td>\n",
       "      <td>0</td>\n",
       "      <td>1</td>\n",
       "      <td>1.55</td>\n",
       "      <td>4.50</td>\n",
       "      <td>9.40</td>\n",
       "      <td>9</td>\n",
       "      <td>1</td>\n",
       "      <td>0</td>\n",
       "    </tr>\n",
       "    <tr>\n",
       "      <th>4</th>\n",
       "      <td>2012</td>\n",
       "      <td>1</td>\n",
       "      <td>0</td>\n",
       "      <td>2.50</td>\n",
       "      <td>3.40</td>\n",
       "      <td>3.45</td>\n",
       "      <td>11</td>\n",
       "      <td>1</td>\n",
       "      <td>0</td>\n",
       "    </tr>\n",
       "    <tr>\n",
       "      <th>5</th>\n",
       "      <td>2012</td>\n",
       "      <td>0</td>\n",
       "      <td>1</td>\n",
       "      <td>2.06</td>\n",
       "      <td>3.75</td>\n",
       "      <td>3.95</td>\n",
       "      <td>9</td>\n",
       "      <td>1</td>\n",
       "      <td>0</td>\n",
       "    </tr>\n",
       "    <tr>\n",
       "      <th>6</th>\n",
       "      <td>2012</td>\n",
       "      <td>2</td>\n",
       "      <td>2</td>\n",
       "      <td>2.29</td>\n",
       "      <td>3.25</td>\n",
       "      <td>3.85</td>\n",
       "      <td>10</td>\n",
       "      <td>4</td>\n",
       "      <td>1</td>\n",
       "    </tr>\n",
       "    <tr>\n",
       "      <th>7</th>\n",
       "      <td>2012</td>\n",
       "      <td>0</td>\n",
       "      <td>2</td>\n",
       "      <td>2.80</td>\n",
       "      <td>3.10</td>\n",
       "      <td>3.05</td>\n",
       "      <td>8</td>\n",
       "      <td>2</td>\n",
       "      <td>0</td>\n",
       "    </tr>\n",
       "    <tr>\n",
       "      <th>8</th>\n",
       "      <td>2012</td>\n",
       "      <td>1</td>\n",
       "      <td>3</td>\n",
       "      <td>4.50</td>\n",
       "      <td>3.55</td>\n",
       "      <td>2.00</td>\n",
       "      <td>8</td>\n",
       "      <td>4</td>\n",
       "      <td>1</td>\n",
       "    </tr>\n",
       "    <tr>\n",
       "      <th>9</th>\n",
       "      <td>2012</td>\n",
       "      <td>0</td>\n",
       "      <td>3</td>\n",
       "      <td>3.00</td>\n",
       "      <td>3.80</td>\n",
       "      <td>2.54</td>\n",
       "      <td>7</td>\n",
       "      <td>3</td>\n",
       "      <td>1</td>\n",
       "    </tr>\n",
       "    <tr>\n",
       "      <th>10</th>\n",
       "      <td>2012</td>\n",
       "      <td>1</td>\n",
       "      <td>1</td>\n",
       "      <td>3.66</td>\n",
       "      <td>3.50</td>\n",
       "      <td>2.42</td>\n",
       "      <td>10</td>\n",
       "      <td>2</td>\n",
       "      <td>0</td>\n",
       "    </tr>\n",
       "    <tr>\n",
       "      <th>11</th>\n",
       "      <td>2012</td>\n",
       "      <td>3</td>\n",
       "      <td>1</td>\n",
       "      <td>2.12</td>\n",
       "      <td>3.30</td>\n",
       "      <td>4.44</td>\n",
       "      <td>12</td>\n",
       "      <td>4</td>\n",
       "      <td>1</td>\n",
       "    </tr>\n",
       "    <tr>\n",
       "      <th>12</th>\n",
       "      <td>2012</td>\n",
       "      <td>3</td>\n",
       "      <td>0</td>\n",
       "      <td>2.31</td>\n",
       "      <td>3.80</td>\n",
       "      <td>3.27</td>\n",
       "      <td>13</td>\n",
       "      <td>3</td>\n",
       "      <td>1</td>\n",
       "    </tr>\n",
       "    <tr>\n",
       "      <th>13</th>\n",
       "      <td>2012</td>\n",
       "      <td>2</td>\n",
       "      <td>1</td>\n",
       "      <td>2.43</td>\n",
       "      <td>3.75</td>\n",
       "      <td>3.40</td>\n",
       "      <td>11</td>\n",
       "      <td>3</td>\n",
       "      <td>1</td>\n",
       "    </tr>\n",
       "    <tr>\n",
       "      <th>14</th>\n",
       "      <td>2012</td>\n",
       "      <td>2</td>\n",
       "      <td>2</td>\n",
       "      <td>1.50</td>\n",
       "      <td>4.40</td>\n",
       "      <td>9.00</td>\n",
       "      <td>10</td>\n",
       "      <td>4</td>\n",
       "      <td>1</td>\n",
       "    </tr>\n",
       "    <tr>\n",
       "      <th>15</th>\n",
       "      <td>2012</td>\n",
       "      <td>1</td>\n",
       "      <td>2</td>\n",
       "      <td>1.82</td>\n",
       "      <td>3.65</td>\n",
       "      <td>5.50</td>\n",
       "      <td>9</td>\n",
       "      <td>3</td>\n",
       "      <td>1</td>\n",
       "    </tr>\n",
       "    <tr>\n",
       "      <th>16</th>\n",
       "      <td>2012</td>\n",
       "      <td>1</td>\n",
       "      <td>5</td>\n",
       "      <td>3.35</td>\n",
       "      <td>3.27</td>\n",
       "      <td>2.50</td>\n",
       "      <td>6</td>\n",
       "      <td>6</td>\n",
       "      <td>1</td>\n",
       "    </tr>\n",
       "    <tr>\n",
       "      <th>17</th>\n",
       "      <td>2012</td>\n",
       "      <td>2</td>\n",
       "      <td>0</td>\n",
       "      <td>3.45</td>\n",
       "      <td>3.40</td>\n",
       "      <td>2.50</td>\n",
       "      <td>12</td>\n",
       "      <td>2</td>\n",
       "      <td>0</td>\n",
       "    </tr>\n",
       "    <tr>\n",
       "      <th>18</th>\n",
       "      <td>2012</td>\n",
       "      <td>0</td>\n",
       "      <td>1</td>\n",
       "      <td>1.24</td>\n",
       "      <td>7.40</td>\n",
       "      <td>15.00</td>\n",
       "      <td>9</td>\n",
       "      <td>1</td>\n",
       "      <td>0</td>\n",
       "    </tr>\n",
       "    <tr>\n",
       "      <th>19</th>\n",
       "      <td>2012</td>\n",
       "      <td>0</td>\n",
       "      <td>0</td>\n",
       "      <td>1.95</td>\n",
       "      <td>3.65</td>\n",
       "      <td>4.51</td>\n",
       "      <td>10</td>\n",
       "      <td>0</td>\n",
       "      <td>0</td>\n",
       "    </tr>\n",
       "  </tbody>\n",
       "</table>\n",
       "</div>"
      ],
      "text/plain": [
       "    season  fthg  ftag  odd_h  odd_d  odd_a  target  other_column  Code\n",
       "0     2012     3     1   1.56   4.41   7.42      12             4     1\n",
       "1     2012     2     2   2.36   3.60   3.40      10             4     1\n",
       "2     2012     2     0   1.83   4.20   4.80      12             2     0\n",
       "3     2012     0     1   1.55   4.50   9.40       9             1     0\n",
       "4     2012     1     0   2.50   3.40   3.45      11             1     0\n",
       "5     2012     0     1   2.06   3.75   3.95       9             1     0\n",
       "6     2012     2     2   2.29   3.25   3.85      10             4     1\n",
       "7     2012     0     2   2.80   3.10   3.05       8             2     0\n",
       "8     2012     1     3   4.50   3.55   2.00       8             4     1\n",
       "9     2012     0     3   3.00   3.80   2.54       7             3     1\n",
       "10    2012     1     1   3.66   3.50   2.42      10             2     0\n",
       "11    2012     3     1   2.12   3.30   4.44      12             4     1\n",
       "12    2012     3     0   2.31   3.80   3.27      13             3     1\n",
       "13    2012     2     1   2.43   3.75   3.40      11             3     1\n",
       "14    2012     2     2   1.50   4.40   9.00      10             4     1\n",
       "15    2012     1     2   1.82   3.65   5.50       9             3     1\n",
       "16    2012     1     5   3.35   3.27   2.50       6             6     1\n",
       "17    2012     2     0   3.45   3.40   2.50      12             2     0\n",
       "18    2012     0     1   1.24   7.40  15.00       9             1     0\n",
       "19    2012     0     0   1.95   3.65   4.51      10             0     0"
      ]
     },
     "execution_count": 6,
     "metadata": {},
     "output_type": "execute_result"
    }
   ],
   "source": [
    "df.head(20)"
   ]
  },
  {
   "cell_type": "code",
   "execution_count": 7,
   "metadata": {},
   "outputs": [],
   "source": [
    "import numpy as np\n",
    "\n",
    "x=np.array([df['odd_h'], df['odd_d'], df['odd_a']])"
   ]
  },
  {
   "cell_type": "code",
   "execution_count": 8,
   "metadata": {},
   "outputs": [],
   "source": [
    "y=np.array([df['Code']])"
   ]
  },
  {
   "cell_type": "code",
   "execution_count": null,
   "metadata": {},
   "outputs": [],
   "source": []
  },
  {
   "cell_type": "code",
   "execution_count": 9,
   "metadata": {},
   "outputs": [],
   "source": [
    "# Create first network with Keras\n",
    "from keras.models import Sequential\n",
    "from keras.layers import Dense\n",
    "\n",
    "# fix random seed for reproducibility\n",
    "seed = 7\n",
    "np.random.seed(seed)\n",
    "\n",
    "\n",
    "# # load pima indians dataset\n",
    "# dataset = pd.read_csv(\"diabetes.csv\")\n",
    "# # split into input (X) and output (Y) variables\n",
    "# X = dataset.iloc[:,3:6]\n",
    "# Y = dataset.iloc[:,7]\n"
   ]
  },
  {
   "cell_type": "code",
   "execution_count": 10,
   "metadata": {},
   "outputs": [],
   "source": [
    "from sklearn.model_selection import train_test_split\n",
    "\n",
    "train, test = train_test_split(df, test_size=0.2)"
   ]
  },
  {
   "cell_type": "code",
   "execution_count": 11,
   "metadata": {},
   "outputs": [],
   "source": [
    "x_train=train.iloc[:,3:6]\n",
    "x_test=test.iloc[:,3:6]\n",
    "y_train=train.iloc[:,8]\n",
    "y_test=test.iloc[:,8]"
   ]
  },
  {
   "cell_type": "code",
   "execution_count": 16,
   "metadata": {},
   "outputs": [
    {
     "name": "stderr",
     "output_type": "stream",
     "text": [
      "C:\\Anaconda3\\lib\\site-packages\\ipykernel_launcher.py:3: UserWarning: Update your `Dense` call to the Keras 2 API: `Dense(12, input_dim=3, activation=\"relu\", kernel_initializer=\"uniform\")`\n",
      "  This is separate from the ipykernel package so we can avoid doing imports until\n",
      "C:\\Anaconda3\\lib\\site-packages\\ipykernel_launcher.py:4: UserWarning: Update your `Dense` call to the Keras 2 API: `Dense(8, activation=\"relu\", kernel_initializer=\"uniform\")`\n",
      "  after removing the cwd from sys.path.\n",
      "C:\\Anaconda3\\lib\\site-packages\\ipykernel_launcher.py:5: UserWarning: Update your `Dense` call to the Keras 2 API: `Dense(1, activation=\"sigmoid\", kernel_initializer=\"uniform\")`\n",
      "  \"\"\"\n"
     ]
    },
    {
     "name": "stdout",
     "output_type": "stream",
     "text": [
      "Epoch 1/150\n",
      " - 1s - loss: 0.6898 - acc: 0.5186\n",
      "Epoch 2/150\n",
      " - 1s - loss: 0.6870 - acc: 0.5347\n",
      "Epoch 3/150\n",
      " - 1s - loss: 0.6862 - acc: 0.5451\n",
      "Epoch 4/150\n",
      " - 1s - loss: 0.6858 - acc: 0.5488\n",
      "Epoch 5/150\n",
      " - 1s - loss: 0.6853 - acc: 0.5483\n",
      "Epoch 6/150\n",
      " - 1s - loss: 0.6855 - acc: 0.5483\n",
      "Epoch 7/150\n",
      " - 1s - loss: 0.6850 - acc: 0.5453\n",
      "Epoch 8/150\n",
      " - 1s - loss: 0.6850 - acc: 0.5484\n",
      "Epoch 9/150\n",
      " - 1s - loss: 0.6847 - acc: 0.5461\n",
      "Epoch 10/150\n",
      " - 1s - loss: 0.6844 - acc: 0.5522\n",
      "Epoch 11/150\n",
      " - 1s - loss: 0.6842 - acc: 0.5553\n",
      "Epoch 12/150\n",
      " - 1s - loss: 0.6837 - acc: 0.5494\n",
      "Epoch 13/150\n",
      " - 1s - loss: 0.6831 - acc: 0.5567\n",
      "Epoch 14/150\n",
      " - 1s - loss: 0.6836 - acc: 0.5494\n",
      "Epoch 15/150\n",
      " - 1s - loss: 0.6826 - acc: 0.5584\n",
      "Epoch 16/150\n",
      " - 1s - loss: 0.6826 - acc: 0.5557\n",
      "Epoch 17/150\n",
      " - 1s - loss: 0.6819 - acc: 0.5569\n",
      "Epoch 18/150\n",
      " - 1s - loss: 0.6814 - acc: 0.5636\n",
      "Epoch 19/150\n",
      " - 1s - loss: 0.6815 - acc: 0.5614\n",
      "Epoch 20/150\n",
      " - 1s - loss: 0.6813 - acc: 0.5590\n",
      "Epoch 21/150\n",
      " - 1s - loss: 0.6803 - acc: 0.5626\n",
      "Epoch 22/150\n",
      " - 1s - loss: 0.6805 - acc: 0.5562\n",
      "Epoch 23/150\n",
      " - 1s - loss: 0.6800 - acc: 0.5601\n",
      "Epoch 24/150\n",
      " - 1s - loss: 0.6798 - acc: 0.5594\n",
      "Epoch 25/150\n",
      " - 1s - loss: 0.6794 - acc: 0.5663\n",
      "Epoch 26/150\n",
      " - 1s - loss: 0.6798 - acc: 0.5583\n",
      "Epoch 27/150\n",
      " - 1s - loss: 0.6794 - acc: 0.5601\n",
      "Epoch 28/150\n",
      " - 1s - loss: 0.6795 - acc: 0.5639\n",
      "Epoch 29/150\n",
      " - 1s - loss: 0.6794 - acc: 0.5606\n",
      "Epoch 30/150\n",
      " - 1s - loss: 0.6790 - acc: 0.5645\n",
      "Epoch 31/150\n",
      " - 1s - loss: 0.6792 - acc: 0.5592\n",
      "Epoch 32/150\n",
      " - 1s - loss: 0.6792 - acc: 0.5605\n",
      "Epoch 33/150\n",
      " - 1s - loss: 0.6796 - acc: 0.5614\n",
      "Epoch 34/150\n",
      " - 1s - loss: 0.6786 - acc: 0.5632\n",
      "Epoch 35/150\n",
      " - 1s - loss: 0.6789 - acc: 0.5636\n",
      "Epoch 36/150\n",
      " - 1s - loss: 0.6789 - acc: 0.5627\n",
      "Epoch 37/150\n",
      " - 1s - loss: 0.6791 - acc: 0.5601\n",
      "Epoch 38/150\n",
      " - 1s - loss: 0.6792 - acc: 0.5589\n",
      "Epoch 39/150\n",
      " - 1s - loss: 0.6789 - acc: 0.5624\n",
      "Epoch 40/150\n",
      " - 1s - loss: 0.6791 - acc: 0.5626\n",
      "Epoch 41/150\n",
      " - 1s - loss: 0.6787 - acc: 0.5590\n",
      "Epoch 42/150\n",
      " - 1s - loss: 0.6793 - acc: 0.5562\n",
      "Epoch 43/150\n",
      " - 1s - loss: 0.6787 - acc: 0.5590\n",
      "Epoch 44/150\n",
      " - 1s - loss: 0.6787 - acc: 0.5639\n",
      "Epoch 45/150\n",
      " - 1s - loss: 0.6783 - acc: 0.5583\n",
      "Epoch 46/150\n",
      " - 1s - loss: 0.6780 - acc: 0.5588\n",
      "Epoch 47/150\n",
      " - 1s - loss: 0.6788 - acc: 0.5621\n",
      "Epoch 48/150\n",
      " - 1s - loss: 0.6787 - acc: 0.5590\n",
      "Epoch 49/150\n",
      " - 1s - loss: 0.6790 - acc: 0.5584\n",
      "Epoch 50/150\n",
      " - 1s - loss: 0.6780 - acc: 0.5650\n",
      "Epoch 51/150\n",
      " - 1s - loss: 0.6784 - acc: 0.5667\n",
      "Epoch 52/150\n",
      " - 1s - loss: 0.6790 - acc: 0.5618\n",
      "Epoch 53/150\n",
      " - 1s - loss: 0.6780 - acc: 0.5656\n",
      "Epoch 54/150\n",
      " - 1s - loss: 0.6788 - acc: 0.5587\n",
      "Epoch 55/150\n",
      " - 1s - loss: 0.6782 - acc: 0.5599\n",
      "Epoch 56/150\n",
      " - 1s - loss: 0.6787 - acc: 0.5634\n",
      "Epoch 57/150\n",
      " - 1s - loss: 0.6784 - acc: 0.5624\n",
      "Epoch 58/150\n",
      " - 1s - loss: 0.6783 - acc: 0.5660\n",
      "Epoch 59/150\n",
      " - 1s - loss: 0.6785 - acc: 0.5569\n",
      "Epoch 60/150\n",
      " - 1s - loss: 0.6786 - acc: 0.5624\n",
      "Epoch 61/150\n",
      " - 1s - loss: 0.6784 - acc: 0.5559\n",
      "Epoch 62/150\n",
      " - 1s - loss: 0.6787 - acc: 0.5621\n",
      "Epoch 63/150\n",
      " - 1s - loss: 0.6783 - acc: 0.5615\n",
      "Epoch 64/150\n",
      " - 1s - loss: 0.6783 - acc: 0.5604\n",
      "Epoch 65/150\n",
      " - 1s - loss: 0.6784 - acc: 0.5610\n",
      "Epoch 66/150\n",
      " - 1s - loss: 0.6784 - acc: 0.5580\n",
      "Epoch 67/150\n",
      " - 1s - loss: 0.6783 - acc: 0.5639\n",
      "Epoch 68/150\n",
      " - 1s - loss: 0.6781 - acc: 0.5561\n",
      "Epoch 69/150\n",
      " - 1s - loss: 0.6785 - acc: 0.5611\n",
      "Epoch 70/150\n",
      " - 1s - loss: 0.6784 - acc: 0.5647\n",
      "Epoch 71/150\n",
      " - 1s - loss: 0.6783 - acc: 0.5613\n",
      "Epoch 72/150\n",
      " - 1s - loss: 0.6787 - acc: 0.5631\n",
      "Epoch 73/150\n",
      " - 1s - loss: 0.6785 - acc: 0.5614\n",
      "Epoch 74/150\n",
      " - 1s - loss: 0.6783 - acc: 0.5620\n",
      "Epoch 75/150\n",
      " - 1s - loss: 0.6782 - acc: 0.5616\n",
      "Epoch 76/150\n",
      " - 1s - loss: 0.6783 - acc: 0.5618\n",
      "Epoch 77/150\n",
      " - 1s - loss: 0.6788 - acc: 0.5604\n",
      "Epoch 78/150\n",
      " - 1s - loss: 0.6784 - acc: 0.5582\n",
      "Epoch 79/150\n",
      " - 1s - loss: 0.6786 - acc: 0.5601\n",
      "Epoch 80/150\n",
      " - 1s - loss: 0.6785 - acc: 0.5616\n",
      "Epoch 81/150\n",
      " - 1s - loss: 0.6789 - acc: 0.5626\n",
      "Epoch 82/150\n",
      " - 1s - loss: 0.6780 - acc: 0.5629\n",
      "Epoch 83/150\n",
      " - 1s - loss: 0.6785 - acc: 0.5583\n",
      "Epoch 84/150\n",
      " - 1s - loss: 0.6780 - acc: 0.5625\n",
      "Epoch 85/150\n",
      " - 1s - loss: 0.6784 - acc: 0.5648\n",
      "Epoch 86/150\n",
      " - 1s - loss: 0.6779 - acc: 0.5662\n",
      "Epoch 87/150\n",
      " - 1s - loss: 0.6782 - acc: 0.5657\n",
      "Epoch 88/150\n",
      " - 1s - loss: 0.6782 - acc: 0.5642\n",
      "Epoch 89/150\n",
      " - 1s - loss: 0.6781 - acc: 0.5647\n",
      "Epoch 90/150\n",
      " - 1s - loss: 0.6786 - acc: 0.5657\n",
      "Epoch 91/150\n",
      " - 1s - loss: 0.6776 - acc: 0.5648\n",
      "Epoch 92/150\n",
      " - 1s - loss: 0.6782 - acc: 0.5610\n",
      "Epoch 93/150\n",
      " - 1s - loss: 0.6778 - acc: 0.5630\n",
      "Epoch 94/150\n",
      " - 1s - loss: 0.6780 - acc: 0.5619\n",
      "Epoch 95/150\n",
      " - 1s - loss: 0.6780 - acc: 0.5662\n",
      "Epoch 96/150\n",
      " - 1s - loss: 0.6784 - acc: 0.5585\n",
      "Epoch 97/150\n",
      " - 1s - loss: 0.6784 - acc: 0.5635\n",
      "Epoch 98/150\n",
      " - 1s - loss: 0.6779 - acc: 0.5660\n",
      "Epoch 99/150\n",
      " - 1s - loss: 0.6780 - acc: 0.5610\n",
      "Epoch 100/150\n",
      " - 1s - loss: 0.6782 - acc: 0.5621\n",
      "Epoch 101/150\n",
      " - 1s - loss: 0.6780 - acc: 0.5678\n",
      "Epoch 102/150\n",
      " - 1s - loss: 0.6779 - acc: 0.5622\n",
      "Epoch 103/150\n",
      " - 1s - loss: 0.6778 - acc: 0.5641\n",
      "Epoch 104/150\n",
      " - 1s - loss: 0.6780 - acc: 0.5634\n",
      "Epoch 105/150\n",
      " - 1s - loss: 0.6780 - acc: 0.5622\n",
      "Epoch 106/150\n",
      " - 1s - loss: 0.6780 - acc: 0.5666\n",
      "Epoch 107/150\n",
      " - 1s - loss: 0.6779 - acc: 0.5611\n",
      "Epoch 108/150\n",
      " - 1s - loss: 0.6788 - acc: 0.5632\n",
      "Epoch 109/150\n",
      " - 1s - loss: 0.6781 - acc: 0.5601\n",
      "Epoch 110/150\n",
      " - 1s - loss: 0.6779 - acc: 0.5642\n",
      "Epoch 111/150\n",
      " - 1s - loss: 0.6778 - acc: 0.5650\n",
      "Epoch 112/150\n",
      " - 1s - loss: 0.6783 - acc: 0.5629\n",
      "Epoch 113/150\n",
      " - 1s - loss: 0.6780 - acc: 0.5661\n",
      "Epoch 114/150\n",
      " - 1s - loss: 0.6777 - acc: 0.5658\n",
      "Epoch 115/150\n",
      " - 1s - loss: 0.6779 - acc: 0.5613\n",
      "Epoch 116/150\n",
      " - 1s - loss: 0.6778 - acc: 0.5657\n",
      "Epoch 117/150\n",
      " - 1s - loss: 0.6777 - acc: 0.5666\n",
      "Epoch 118/150\n",
      " - 1s - loss: 0.6772 - acc: 0.5704\n",
      "Epoch 119/150\n",
      " - 1s - loss: 0.6777 - acc: 0.5658\n",
      "Epoch 120/150\n",
      " - 1s - loss: 0.6776 - acc: 0.5618\n",
      "Epoch 121/150\n",
      " - 1s - loss: 0.6780 - acc: 0.5636\n",
      "Epoch 122/150\n",
      " - 1s - loss: 0.6778 - acc: 0.5642\n",
      "Epoch 123/150\n",
      " - 1s - loss: 0.6777 - acc: 0.5636\n",
      "Epoch 124/150\n",
      " - 1s - loss: 0.6777 - acc: 0.5661\n",
      "Epoch 125/150\n",
      " - 1s - loss: 0.6782 - acc: 0.5624\n",
      "Epoch 126/150\n",
      " - 1s - loss: 0.6776 - acc: 0.5642\n",
      "Epoch 127/150\n",
      " - 1s - loss: 0.6781 - acc: 0.5648\n",
      "Epoch 128/150\n",
      " - 1s - loss: 0.6777 - acc: 0.5631\n",
      "Epoch 129/150\n",
      " - 1s - loss: 0.6784 - acc: 0.5646\n",
      "Epoch 130/150\n",
      " - 1s - loss: 0.6779 - acc: 0.5652\n",
      "Epoch 131/150\n",
      " - 1s - loss: 0.6779 - acc: 0.5637\n",
      "Epoch 132/150\n",
      " - 1s - loss: 0.6779 - acc: 0.5636\n",
      "Epoch 133/150\n",
      " - 1s - loss: 0.6777 - acc: 0.5634\n",
      "Epoch 134/150\n",
      " - 1s - loss: 0.6772 - acc: 0.5663\n",
      "Epoch 135/150\n",
      " - 1s - loss: 0.6777 - acc: 0.5648\n",
      "Epoch 136/150\n",
      " - 1s - loss: 0.6780 - acc: 0.5598\n",
      "Epoch 137/150\n",
      " - 1s - loss: 0.6777 - acc: 0.5634\n",
      "Epoch 138/150\n",
      " - 1s - loss: 0.6780 - acc: 0.5605\n",
      "Epoch 139/150\n",
      " - 1s - loss: 0.6770 - acc: 0.5687\n",
      "Epoch 140/150\n",
      " - 1s - loss: 0.6782 - acc: 0.5610\n",
      "Epoch 141/150\n",
      " - 1s - loss: 0.6777 - acc: 0.5648\n",
      "Epoch 142/150\n",
      " - 1s - loss: 0.6775 - acc: 0.5641\n",
      "Epoch 143/150\n",
      " - 1s - loss: 0.6774 - acc: 0.5666\n",
      "Epoch 144/150\n",
      " - 1s - loss: 0.6778 - acc: 0.5625\n",
      "Epoch 145/150\n",
      " - 1s - loss: 0.6782 - acc: 0.5615\n",
      "Epoch 146/150\n",
      " - 1s - loss: 0.6773 - acc: 0.5629\n",
      "Epoch 147/150\n",
      " - 1s - loss: 0.6780 - acc: 0.5661\n",
      "Epoch 148/150\n",
      " - 1s - loss: 0.6776 - acc: 0.5614\n",
      "Epoch 149/150\n",
      " - 1s - loss: 0.6777 - acc: 0.5605\n",
      "Epoch 150/150\n",
      " - 1s - loss: 0.6775 - acc: 0.5669\n"
     ]
    },
    {
     "data": {
      "text/plain": [
       "<keras.callbacks.History at 0x1bd4fc05198>"
      ]
     },
     "execution_count": 16,
     "metadata": {},
     "output_type": "execute_result"
    }
   ],
   "source": [
    "# create model\n",
    "model = Sequential()\n",
    "model.add(Dense(12, input_dim=3, init='uniform', activation='relu'))\n",
    "model.add(Dense(8, init='uniform', activation='relu'))\n",
    "model.add(Dense(1, init='uniform', activation='sigmoid'))\n",
    "# Compile model\n",
    "model.compile(loss='binary_crossentropy', optimizer='adam', metrics=['accuracy'])\n",
    "# Fit the model\n",
    "model.fit(x_train, y_train, epochs=150, batch_size=10,  verbose=2)\n"
   ]
  },
  {
   "cell_type": "code",
   "execution_count": 17,
   "metadata": {},
   "outputs": [
    {
     "name": "stdout",
     "output_type": "stream",
     "text": [
      "2023/2023 [==============================] - 0s 57us/step\n",
      "Test score: 0.675844005824196\n",
      "Test accuracy: 0.5541275333810194\n"
     ]
    }
   ],
   "source": [
    "score, acc = model.evaluate(x_test, y_test)\n",
    "print('Test score:', score)\n",
    "print('Test accuracy:', acc)"
   ]
  },
  {
   "cell_type": "code",
   "execution_count": null,
   "metadata": {},
   "outputs": [],
   "source": []
  },
  {
   "cell_type": "code",
   "execution_count": null,
   "metadata": {},
   "outputs": [],
   "source": []
  },
  {
   "cell_type": "code",
   "execution_count": null,
   "metadata": {},
   "outputs": [],
   "source": []
  },
  {
   "cell_type": "code",
   "execution_count": null,
   "metadata": {},
   "outputs": [],
   "source": []
  },
  {
   "cell_type": "code",
   "execution_count": null,
   "metadata": {},
   "outputs": [],
   "source": []
  },
  {
   "cell_type": "code",
   "execution_count": null,
   "metadata": {},
   "outputs": [],
   "source": []
  },
  {
   "cell_type": "code",
   "execution_count": null,
   "metadata": {},
   "outputs": [],
   "source": []
  },
  {
   "cell_type": "code",
   "execution_count": null,
   "metadata": {},
   "outputs": [],
   "source": []
  },
  {
   "cell_type": "code",
   "execution_count": null,
   "metadata": {},
   "outputs": [],
   "source": []
  },
  {
   "cell_type": "code",
   "execution_count": null,
   "metadata": {},
   "outputs": [],
   "source": []
  },
  {
   "cell_type": "code",
   "execution_count": null,
   "metadata": {},
   "outputs": [],
   "source": []
  },
  {
   "cell_type": "code",
   "execution_count": null,
   "metadata": {},
   "outputs": [],
   "source": []
  },
  {
   "cell_type": "code",
   "execution_count": null,
   "metadata": {},
   "outputs": [],
   "source": [
    "np.random.seed(1)"
   ]
  },
  {
   "cell_type": "code",
   "execution_count": null,
   "metadata": {},
   "outputs": [],
   "source": [
    "syn0=1*np.random.random((3,1))-1"
   ]
  },
  {
   "cell_type": "code",
   "execution_count": null,
   "metadata": {},
   "outputs": [],
   "source": [
    "from numpy import exp, array, random, dot"
   ]
  },
  {
   "cell_type": "code",
   "execution_count": null,
   "metadata": {},
   "outputs": [],
   "source": [
    "for iteration in range(10000):\n",
    "    l0=x\n",
    "    l1=nonlin(np.dot(l0, syn0))\n",
    "    \n",
    "    l1_error=y-l1\n",
    "    \n",
    "    l1_delta=l1_error*nonlin(l1, True)\n",
    "    \n",
    "    syn0 += np.dot(l0.T, l1_delta)\n",
    "    \n",
    "print (\"output after training: \")\n",
    "#print l1.head(10)"
   ]
  },
  {
   "cell_type": "code",
   "execution_count": null,
   "metadata": {},
   "outputs": [],
   "source": [
    "from numpy import exp, array, random, dot\n",
    "training_set_inputs = array([[0, 0, 1], [1, 1, 1], [1, 0, 1], [0, 1, 1]])\n",
    "training_set_outputs = array([[0, 1, 1, 0]]).T\n",
    "random.seed(1)\n",
    "synaptic_weights = 2 * random.random((3, 1)) - 1\n",
    "for iteration in xrange(10000):\n",
    "    output = 1 / (1 + exp(-(dot(training_set_inputs, synaptic_weights))))\n",
    "    synaptic_weights += dot(training_set_inputs.T, (training_set_outputs - output) * output * (1 - output))\n",
    "print (1 / (1 + exp(-(dot(array([1, 0, 0]), synaptic_weights)))))"
   ]
  },
  {
   "cell_type": "code",
   "execution_count": null,
   "metadata": {},
   "outputs": [],
   "source": []
  },
  {
   "cell_type": "code",
   "execution_count": null,
   "metadata": {},
   "outputs": [],
   "source": []
  },
  {
   "cell_type": "code",
   "execution_count": null,
   "metadata": {},
   "outputs": [],
   "source": []
  },
  {
   "cell_type": "code",
   "execution_count": null,
   "metadata": {},
   "outputs": [],
   "source": []
  },
  {
   "cell_type": "code",
   "execution_count": null,
   "metadata": {},
   "outputs": [],
   "source": []
  },
  {
   "cell_type": "code",
   "execution_count": null,
   "metadata": {},
   "outputs": [],
   "source": []
  },
  {
   "cell_type": "code",
   "execution_count": null,
   "metadata": {},
   "outputs": [],
   "source": []
  },
  {
   "cell_type": "code",
   "execution_count": null,
   "metadata": {},
   "outputs": [],
   "source": []
  },
  {
   "cell_type": "code",
   "execution_count": null,
   "metadata": {},
   "outputs": [],
   "source": []
  },
  {
   "cell_type": "code",
   "execution_count": null,
   "metadata": {},
   "outputs": [],
   "source": []
  },
  {
   "cell_type": "code",
   "execution_count": null,
   "metadata": {},
   "outputs": [],
   "source": []
  },
  {
   "cell_type": "code",
   "execution_count": null,
   "metadata": {},
   "outputs": [],
   "source": []
  },
  {
   "cell_type": "code",
   "execution_count": null,
   "metadata": {},
   "outputs": [],
   "source": []
  },
  {
   "cell_type": "code",
   "execution_count": null,
   "metadata": {},
   "outputs": [],
   "source": []
  },
  {
   "cell_type": "code",
   "execution_count": null,
   "metadata": {},
   "outputs": [],
   "source": [
    "# below, you use keras to develop the neural network"
   ]
  },
  {
   "cell_type": "code",
   "execution_count": null,
   "metadata": {
    "scrolled": true
   },
   "outputs": [],
   "source": [
    "# # in case you run this on another machine...\n",
    "\n",
    "# ! pip install keras\n",
    "\n",
    "# ! pip install tensorflow"
   ]
  },
  {
   "cell_type": "code",
   "execution_count": null,
   "metadata": {},
   "outputs": [],
   "source": [
    "import keras"
   ]
  },
  {
   "cell_type": "code",
   "execution_count": null,
   "metadata": {},
   "outputs": [],
   "source": [
    "# Create first network with Keras\n",
    "from keras.models import Sequential\n",
    "from keras.layers import Dense\n",
    "import numpy\n",
    "# fix random seed for reproducibility\n",
    "seed = 7\n",
    "numpy.random.seed(seed)\n",
    "# load pima indians dataset\n",
    "dataset = pd.read_csv(\"diabetes.csv\")\n",
    "# split into input (X) and output (Y) variables\n",
    "X = dataset.iloc[:,0:8]\n",
    "Y = dataset.iloc[:,8]\n"
   ]
  },
  {
   "cell_type": "code",
   "execution_count": null,
   "metadata": {},
   "outputs": [],
   "source": []
  },
  {
   "cell_type": "code",
   "execution_count": null,
   "metadata": {},
   "outputs": [],
   "source": [
    "from sklearn.model_selection import train_test_split\n",
    "\n",
    "train, test = train_test_split(dataset, test_size=0.2)"
   ]
  },
  {
   "cell_type": "code",
   "execution_count": null,
   "metadata": {},
   "outputs": [],
   "source": []
  },
  {
   "cell_type": "code",
   "execution_count": null,
   "metadata": {},
   "outputs": [],
   "source": [
    "# create model\n",
    "model = Sequential()\n",
    "model.add(Dense(12, input_dim=8, init='uniform', activation='relu'))\n",
    "model.add(Dense(8, init='uniform', activation='relu'))\n",
    "model.add(Dense(1, init='uniform', activation='sigmoid'))\n",
    "# Compile model\n",
    "model.compile(loss='binary_crossentropy', optimizer='adam', metrics=['accuracy'])\n",
    "# Fit the model\n",
    "model.fit(X, Y, epochs=150, batch_size=10,  verbose=2)\n"
   ]
  },
  {
   "cell_type": "code",
   "execution_count": null,
   "metadata": {},
   "outputs": [],
   "source": []
  },
  {
   "cell_type": "code",
   "execution_count": null,
   "metadata": {},
   "outputs": [],
   "source": [
    "x_train=train.iloc[:,0:8]"
   ]
  },
  {
   "cell_type": "code",
   "execution_count": null,
   "metadata": {},
   "outputs": [],
   "source": [
    "x_test=test.iloc[:,0:8]"
   ]
  },
  {
   "cell_type": "code",
   "execution_count": null,
   "metadata": {},
   "outputs": [],
   "source": [
    "y_train=train.iloc[:,0:8]"
   ]
  },
  {
   "cell_type": "code",
   "execution_count": null,
   "metadata": {},
   "outputs": [],
   "source": [
    "y_test=test.iloc[:,8]"
   ]
  },
  {
   "cell_type": "code",
   "execution_count": null,
   "metadata": {},
   "outputs": [],
   "source": [
    "\n",
    "score, acc = model.evaluate(x_test, y_test)\n",
    "print('Test score:', score)\n",
    "print('Test accuracy:', acc)"
   ]
  },
  {
   "cell_type": "code",
   "execution_count": null,
   "metadata": {
    "scrolled": true
   },
   "outputs": [],
   "source": [
    "# calculate predictions\n",
    "predictions = model.predict(x_test)\n",
    "# round predictions\n",
    "rounded = [round(x[0]) for x in predictions]\n",
    "print(rounded)"
   ]
  },
  {
   "cell_type": "code",
   "execution_count": null,
   "metadata": {},
   "outputs": [],
   "source": []
  },
  {
   "cell_type": "code",
   "execution_count": null,
   "metadata": {},
   "outputs": [],
   "source": []
  },
  {
   "cell_type": "code",
   "execution_count": null,
   "metadata": {},
   "outputs": [],
   "source": []
  },
  {
   "cell_type": "code",
   "execution_count": null,
   "metadata": {},
   "outputs": [],
   "source": []
  },
  {
   "cell_type": "code",
   "execution_count": null,
   "metadata": {},
   "outputs": [],
   "source": []
  },
  {
   "cell_type": "code",
   "execution_count": null,
   "metadata": {},
   "outputs": [],
   "source": []
  },
  {
   "cell_type": "code",
   "execution_count": null,
   "metadata": {},
   "outputs": [],
   "source": []
  },
  {
   "cell_type": "code",
   "execution_count": null,
   "metadata": {},
   "outputs": [],
   "source": []
  }
 ],
 "metadata": {
  "kernelspec": {
   "display_name": "Python 3",
   "language": "python",
   "name": "python3"
  },
  "language_info": {
   "codemirror_mode": {
    "name": "ipython",
    "version": 3
   },
   "file_extension": ".py",
   "mimetype": "text/x-python",
   "name": "python",
   "nbconvert_exporter": "python",
   "pygments_lexer": "ipython3",
   "version": "3.6.4"
  }
 },
 "nbformat": 4,
 "nbformat_minor": 2
}
